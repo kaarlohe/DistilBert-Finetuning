{
 "cells": [
  {
   "cell_type": "markdown",
   "metadata": {
    "colab_type": "text",
    "id": "view-in-github"
   },
   "source": [
    "<a href=\"https://colab.research.google.com/github/LuluW8071/Text-Sentiment-Analysis/blob/main/Text-Sentiment-Analysis-using-BERT.ipynb\" target=\"_parent\"><img src=\"https://colab.research.google.com/assets/colab-badge.svg\" alt=\"Open In Colab\"/></a>"
   ]
  },
  {
   "cell_type": "markdown",
   "metadata": {
    "id": "fMxocdwKAhgv"
   },
   "source": [
    "# Text-Sentiment-Analysis-using-BERT"
   ]
  },
  {
   "cell_type": "markdown",
   "metadata": {},
   "source": [
    "MIT License\n",
    "\n",
    "Copyright (c) 2024 Shashin\n",
    "\n",
    "Permission is hereby granted, free of charge, to any person obtaining a copy\n",
    "of this software and associated documentation files (the \"Software\"), to deal\n",
    "in the Software without restriction, including without limitation the rights\n",
    "to use, copy, modify, merge, publish, distribute, sublicense, and/or sell\n",
    "copies of the Software, and to permit persons to whom the Software is\n",
    "furnished to do so, subject to the following conditions:\n",
    "\n",
    "The above copyright notice and this permission notice shall be included in all\n",
    "copies or substantial portions of the Software.\n",
    "\n",
    "THE SOFTWARE IS PROVIDED \"AS IS\", WITHOUT WARRANTY OF ANY KIND, EXPRESS OR\n",
    "IMPLIED, INCLUDING BUT NOT LIMITED TO THE WARRANTIES OF MERCHANTABILITY,\n",
    "FITNESS FOR A PARTICULAR PURPOSE AND NONINFRINGEMENT. IN NO EVENT SHALL THE\n",
    "AUTHORS OR COPYRIGHT HOLDERS BE LIABLE FOR ANY CLAIM, DAMAGES OR OTHER\n",
    "LIABILITY, WHETHER IN AN ACTION OF CONTRACT, TORT OR OTHERWISE, ARISING FROM,\n",
    "OUT OF OR IN CONNECTION WITH THE SOFTWARE OR THE USE OR OTHER DEALINGS IN THE\n",
    "SOFTWARE."
   ]
  },
  {
   "cell_type": "code",
   "execution_count": null,
   "metadata": {
    "colab": {
     "base_uri": "https://localhost:8080/"
    },
    "id": "VFlkWVYFy-QA",
    "outputId": "bc11f971-81ed-4e5d-a2fd-5224ce686fe9"
   },
   "outputs": [],
   "source": [
    "!pip install transformers[torch] datasets\n",
    "!pip install nltk\n",
    "!pip install ipywidgets --upgrade\n",
    "!jupyter nbextension enable --py widgetsnbextension\n",
    "!jupyter nbextension install --py widgetsnbextension\n",
    "!pip install evaluate\n",
    "!pip install tensorboard\n",
    "!pip install seaborn"
   ]
  },
  {
   "cell_type": "markdown",
   "metadata": {
    "id": "39k-BncjiZtY"
   },
   "source": [
    "## 1. Load the dataset\n"
   ]
  },
  {
   "cell_type": "markdown",
   "metadata": {
    "id": "Z_CiiyyauW5U"
   },
   "source": [
    ">__Note:__</br>\n",
    "**BERT** (Bidirectional Encoder Representations from Transformers) can indeed be trained on a relatively small dataset to yield improved results for certain tasks, especially when fine-tuning a pre-trained model, due to its powerful architecture. It is already pre-trained on larger datasets, possesses powerful contextual understanding, and benefits from effective regularization techniques such as dropout and attention mechanisms, which help prevent overfitting.\n",
    "\n",
    ">So, we can just take just `20000` datasets and train the **BERT** Model on it for our purpose."
   ]
  },
  {
   "cell_type": "code",
   "execution_count": null,
   "metadata": {
    "colab": {
     "base_uri": "https://localhost:8080/"
    },
    "id": "twsVt1DPihlH",
    "outputId": "ac7f0b63-752c-4765-a2c0-a50a7737b8c5"
   },
   "outputs": [],
   "source": [
    "import random\n",
    "import pandas as pd\n",
    "import numpy as np\n",
    "\n",
    "# Reduce to 10000 samples if you want your model to train faster (while loss may increase)\n",
    "samples = 40000\n",
    "\n",
    "column_names = [\"sentiment\", \"tweet_id\", \"date\", \"flag\", \"username\", \"content\"]\n",
    "\n",
    "# Read dataset and take random 20000 samples\n",
    "df = pd.read_csv(\"../data/training.1600000.processed.noemoticon.csv\", encoding='ISO-8859-1', names=column_names)\n",
    "df = df.sample(n=samples, random_state=random.randint(0, 100))\n",
    "\n",
    "# Reset the index\n",
    "df.reset_index(drop=True, inplace=True)\n",
    "df.head(), df.shape"
   ]
  },
  {
   "cell_type": "code",
   "execution_count": null,
   "metadata": {
    "colab": {
     "base_uri": "https://localhost:8080/",
     "height": 89
    },
    "id": "xHyN1x6Pih5u",
    "outputId": "57dc6965-42aa-4424-ae4b-6fa49528486a"
   },
   "outputs": [],
   "source": [
    "df['sentiment'][0]"
   ]
  },
  {
   "cell_type": "code",
   "execution_count": null,
   "metadata": {
    "colab": {
     "base_uri": "https://localhost:8080/"
    },
    "id": "SsFTo9aWi62B",
    "outputId": "865bbc98-0d63-40ce-f589-3d70fcbcd36b"
   },
   "outputs": [],
   "source": [
    "df['sentiment'].value_counts()"
   ]
  },
  {
   "cell_type": "markdown",
   "metadata": {
    "id": "bnkgCW7L1w_h"
   },
   "source": [
    "## 2. Text Pre-Processing\n",
    "\n",
    "- Cleaning up the text data by removing punctuation, extra spaces, and numbers.\n",
    "- Transform sentences into individual words, remove common words (known as \"stop words\")"
   ]
  },
  {
   "cell_type": "code",
   "execution_count": null,
   "metadata": {
    "colab": {
     "base_uri": "https://localhost:8080/"
    },
    "id": "RQ6ShoeAlpPv",
    "outputId": "fdaa6521-3f5e-47b9-a266-9603f2e69415"
   },
   "outputs": [],
   "source": [
    "import re\n",
    "import nltk\n",
    "from nltk.corpus import stopwords\n",
    "nltk.download('stopwords')\n",
    "from collections import Counter\n",
    "\n",
    "# Precompile regular expressions for faster pre processing\n",
    "non_word_chars_pattern = re.compile(r\"[^\\w\\s]\")\n",
    "whitespace_pattern = re.compile(r\"\\s+\")\n",
    "digits_pattern = re.compile(r\"\\d\")\n",
    "username_pattern = re.compile(r\"@([^\\s]+)\")\n",
    "hashtags_pattern = re.compile(r\"#\\d+\")\n",
    "br_pattern = re.compile(r'<br\\s*/?>\\s*<br\\s*/?>')\n",
    "\n",
    "def preprocess_string(s):\n",
    "    # Remove all non-word characters (everything except numbers and letters)\n",
    "    s = non_word_chars_pattern.sub('', s)\n",
    "    # Replace all runs of whitespaces with single space\n",
    "    s = whitespace_pattern.sub(' ', s)\n",
    "    # Replace digits with no space\n",
    "    s = digits_pattern.sub('', s)\n",
    "    # Replace usernames with no space\n",
    "    s = username_pattern.sub('', s)\n",
    "    # Replace hashtags with no space\n",
    "    s = hashtags_pattern.sub('', s)\n",
    "    # Replace <br /> pattern with empty string\n",
    "    s = br_pattern.sub('', s)\n",
    "    # Replace specific characters\n",
    "    s = s.replace(\"https\", \"\")\n",
    "    s = s.replace(\"http\", \"\")\n",
    "    s = s.replace(\"rt\", \"\")\n",
    "    s = s.replace(\"-\", \"\")\n",
    "    # Replace br with empty string\n",
    "    s = s.replace(\"br\", \"\")\n",
    "    # Replace newline character with empty string\n",
    "    s = s.replace(\"\\n\", \"\")\n",
    "    return s"
   ]
  },
  {
   "cell_type": "code",
   "execution_count": null,
   "metadata": {
    "colab": {
     "base_uri": "https://localhost:8080/",
     "height": 49,
     "referenced_widgets": [
      "7904667e67424983aeacfdf6fceab2a3",
      "5e12365361ab4641a7ba003c86d77586",
      "5db308d5b97f44c48fbedbbf0dbbf97e",
      "8496b3a8f89b420bbd64ba2f7e6fa6f5",
      "4c01bea3d08d4d7b956752b43697c996",
      "68b672b53c8a4a1097f47c2a850ce1a0",
      "12f37aede6d249dd817b16db3b12b099",
      "f7794110d28344d8b713c63aa5ec0e21",
      "6090c48a151a42d5a4daa26662177e7c",
      "fc46c0fc11814ef9bb9045d2dad97234",
      "79887438173e4ad4a55a46e735ec569c"
     ]
    },
    "id": "DyEsn8Lml9PH",
    "outputId": "85cdb938-581e-457e-e341-f575c908f6fb"
   },
   "outputs": [],
   "source": [
    "from tqdm.notebook import tqdm_notebook\n",
    "\n",
    "preprocessed_contents = []\n",
    "\n",
    "# Apply preprocessing\n",
    "for content in tqdm_notebook(df['content'], desc='Preprocessing'):\n",
    "    preprocessed_content = preprocess_string(content)\n",
    "    preprocessed_contents.append(preprocessed_content)\n",
    "\n",
    "# Assign the preprocessed reviews back to  'review' column\n",
    "df['content'] = preprocessed_contents"
   ]
  },
  {
   "cell_type": "code",
   "execution_count": null,
   "metadata": {
    "colab": {
     "base_uri": "https://localhost:8080/"
    },
    "id": "-lwgaucZnAkh",
    "outputId": "9910669d-b29e-42fa-b557-6a37f4d3f8ea"
   },
   "outputs": [],
   "source": [
    "df['content'][0], df['sentiment'][0]"
   ]
  },
  {
   "cell_type": "markdown",
   "metadata": {
    "id": "BR6tc-oT2Hc1"
   },
   "source": [
    "## 3. Mapping `sentiment` column to numeric values"
   ]
  },
  {
   "cell_type": "code",
   "execution_count": null,
   "metadata": {
    "colab": {
     "base_uri": "https://localhost:8080/",
     "height": 206
    },
    "id": "vNoB1qL86oPG",
    "outputId": "115f1c9b-11c0-4424-aa2d-86fea5b595c8"
   },
   "outputs": [],
   "source": [
    "# Map 0=negative, 1=positive, 2=neutral\n",
    "df['sentiment'] = df['sentiment'].replace({2: 1, 4: 2})\n",
    "df.head()"
   ]
  },
  {
   "cell_type": "markdown",
   "metadata": {
    "id": "9XS665rf2t-9"
   },
   "source": [
    "## 4. Spliiting datasets into train and test"
   ]
  },
  {
   "cell_type": "code",
   "execution_count": null,
   "metadata": {
    "colab": {
     "base_uri": "https://localhost:8080/"
    },
    "id": "xE28r9W8jFXc",
    "outputId": "04cdb615-93a7-4d78-8b87-fbcccb718c33"
   },
   "outputs": [],
   "source": [
    "from sklearn.model_selection import train_test_split\n",
    "\n",
    "X_train, X_test, y_train, y_test = train_test_split(df['content'],\n",
    "                                                    df['sentiment'],\n",
    "                                                    test_size=0.2)\n",
    "\n",
    "len(X_train), len(X_test)"
   ]
  },
  {
   "cell_type": "code",
   "execution_count": null,
   "metadata": {
    "colab": {
     "base_uri": "https://localhost:8080/"
    },
    "id": "arUMIRZDqr5T",
    "outputId": "8e6e6d00-536d-42da-dfe0-963f990a8abd"
   },
   "outputs": [],
   "source": [
    "X_train, X_test, y_train, y_test = list(X_train), list(X_test), list(y_train), list(y_test)\n",
    "X_train[:2], y_train[:2]"
   ]
  },
  {
   "cell_type": "markdown",
   "metadata": {
    "id": "QyrxW-2T20rI"
   },
   "source": [
    "## 5. Preparing data using custom dataloader"
   ]
  },
  {
   "cell_type": "code",
   "execution_count": null,
   "metadata": {
    "colab": {
     "base_uri": "https://localhost:8080/"
    },
    "id": "sS4L0KVorOIx",
    "outputId": "100cbb56-db5c-4ccf-d2ed-713b178b10cd"
   },
   "outputs": [],
   "source": [
    "import torch\n",
    "import torch.nn.functional as F\n",
    "from torch.utils.data import Dataset\n",
    "from transformers import DistilBertTokenizerFast, DistilBertForSequenceClassification\n",
    "from transformers import Trainer, TrainingArguments\n",
    "\n",
    "# Setting device agnostic code\n",
    "device = 'cuda' if torch.cuda.is_available() else 'cpu'\n",
    "print(device)"
   ]
  },
  {
   "cell_type": "code",
   "execution_count": null,
   "metadata": {
    "id": "dN_U6_-OtG9V"
   },
   "outputs": [],
   "source": [
    "class data(Dataset):\n",
    "  def __init__(self, encodings, labels):\n",
    "    self.encodings = encodings\n",
    "    self.labels = labels\n",
    "\n",
    "  def __getitem__(self, index):\n",
    "    item = {key: torch.tensor(val[index]) for key, val in self.encodings.items()}\n",
    "    item['labels'] = torch.tensor(self.labels[index])\n",
    "    return item\n",
    "\n",
    "  def __len__(self):\n",
    "    return len(self.labels)"
   ]
  },
  {
   "cell_type": "markdown",
   "metadata": {
    "id": "jIqMd4Kx7h9D"
   },
   "source": [
    "## 6. Load PreTrained BERT Model\n",
    "\n",
    "**BERT** (Bidirectional Encoder Representations from Transformers) is a pre-trained language representation model developed by researchers at Google.\n",
    "\n",
    "<img src = \"https://i0.wp.com/neptune.ai/wp-content/uploads/2022/10/Attention_diagram_transformer.png?ssl=1\">\n",
    "\n",
    "- BERT architecture consists of `multiple encoder transformer blocks` stacked together.\n",
    "- Each transformer block includes` multi-head self-attention` and `feed-forward neural networks`.\n",
    "- `Multi-head self-attention` allows BERT to weigh word importance based on context, capturing long-range dependencies effectively.\n",
    "- The output from `attention mechanisms` undergoes non-linear transformations via `feed-forward neural networks`.\n",
    "- `Layer normalization` and `residual connections` stabilize training and facilitate gradient flow within each transformer block.\n",
    "- `Positional encodings` preserve word order in sequences, aiding BERT in understanding the sequential nature of data.\n",
    "\n",
    ">BERT is pre-trained on a large text corpus using tasks like masked language modeling and next sentence prediction. Fine-tuning on specific tasks involves adjusting the final layers of the pre-trained BERT model.\n",
    "\n",
    "### [Explanation Video on BERT](https://www.youtube.com/watch?v=6ahxPTLZxU8)"
   ]
  },
  {
   "cell_type": "code",
   "execution_count": null,
   "metadata": {
    "colab": {
     "base_uri": "https://localhost:8080/",
     "height": 145,
     "referenced_widgets": [
      "923e1b7fbd8b49bdabcd4f00f714be14",
      "b809d01b8cd344d98f2273b3ae8f7ffb",
      "6360e06ae7e74b89ad45dd1bb4413342",
      "1421f131fe17439898b48f87cfa26b52",
      "730e7bfb278a433bac4fedce9538cf0d",
      "0cb660d95a9b46ed9ea2689b3b828508",
      "b6caf3716cd4411cb727f34683958bf6",
      "2480db893d3b43379c2aff68f421eb07",
      "e8fd4b2f11b749ca9ef44d94353e13f0",
      "3bc4f28421f8430d8640f292e94d8c64",
      "96edc1fed27340c692bf75fd4fc9c5d2",
      "ee83043d95cc4bee83a14456fbd7c01c",
      "ed42110cf0cf47f3aff0853d0452e7d8",
      "a5c25ef7145d4a819569b30c10b3db22",
      "be723d54691348868cff55a8ba046eab",
      "3242d629683242bfbc5777a2b904dd70",
      "657bc2cc2cb744c4a1f72488b58d53b0",
      "35e38db3a6e74956ae22f6e6b3d594a3",
      "e800a5dc461b465c98814786c7b9d42b",
      "90cea132a5114445922194fa5aea05d1",
      "9f025708b4034c879c0a4249378fadc3",
      "f03f81ec0bc44602be760ff2f548a5fd",
      "038710f43d7a48dc8660458c680b35fb",
      "368cc160a1bb43b7b11f7991b2d55d5a",
      "94bc6056062746bc8b1cfbfa3292a241",
      "6fe80fdd065148a2b8f6eebf0862123a",
      "680bcce08dd645f9badcfd5a9f53dc4f",
      "1d5d3e06619c4084b41ab120e8476c6d",
      "f701050853814fff9c33373ab92deb43",
      "2a4847e7a62f46b0b2afd22f9c1a0a4c",
      "7b0317bfb8d742a09a3aa2c0ebb9773c",
      "b848fa1f848348079650e1897429c3fa"
     ]
    },
    "id": "6WY3qWTAxh1u",
    "outputId": "24259200-a1da-4a6c-f106-4582baa801f2"
   },
   "outputs": [],
   "source": [
    "from huggingface_hub import notebook_login\n",
    "\n",
    "# Paste hugging face token with write permission enabled and log in\n",
    "notebook_login()"
   ]
  },
  {
   "cell_type": "code",
   "execution_count": null,
   "metadata": {
    "colab": {
     "base_uri": "https://localhost:8080/"
    },
    "id": "M3pUE51Ttyvp",
    "outputId": "f8683f9d-2e89-4c13-8eb5-f311fd46e181"
   },
   "outputs": [],
   "source": [
    "model_name = 'distilbert-base-uncased'\n",
    "tokenizer = DistilBertTokenizerFast.from_pretrained(model_name)"
   ]
  },
  {
   "cell_type": "markdown",
   "metadata": {
    "id": "wFFYOaeg--PW"
   },
   "source": [
    "## 7. Tokenize and Create Encoded Dataset"
   ]
  },
  {
   "cell_type": "code",
   "execution_count": null,
   "metadata": {
    "id": "6d1E4UWit4PW"
   },
   "outputs": [],
   "source": [
    "from transformers import DataCollatorWithPadding\n",
    "\n",
    "data_collator = DataCollatorWithPadding(tokenizer)\n",
    "\n",
    "# Tokenize with truncation and padding and create dataset from tokenized data\n",
    "train_encoding = tokenizer(X_train, truncation=True, padding=True)\n",
    "test_encoding = tokenizer(X_test, truncation=True, padding=True)\n",
    "\n",
    "train_dataset = data(train_encoding, y_train)\n",
    "test_dataset = data(test_encoding, y_test)"
   ]
  },
  {
   "cell_type": "markdown",
   "metadata": {
    "id": "Zu7-BCBH-wis"
   },
   "source": [
    "## 8. Fine-Tuning Distil BERT\n",
    "\n",
    "Fine-tuning BERT, a pre-trained language model, allows us to adapt it to specific NLP tasks such as text classification, named entity recognition, sentiment analysis, and question answering.\n",
    "\n",
    "\n",
    "<img src = \"https://raw.githubusercontent.com/LuluW8071/Text-Sentiment-Analysis/dfa065d8169ae9d26460114e612118f5628d7dd3//assets/BERT-Fine-tuning-pipeline.png\">"
   ]
  },
  {
   "cell_type": "code",
   "execution_count": null,
   "metadata": {
    "id": "x4qy_mL05NVG"
   },
   "outputs": [],
   "source": [
    "batch_size = 32\n",
    "\n",
    "training_args = TrainingArguments(\n",
    "    output_dir=\"./finetuned-sentiments-40k\",\n",
    "    num_train_epochs=4,                              # No of epochs to train\n",
    "    per_device_train_batch_size=batch_size,          # Batch size for training per device\n",
    "    per_device_eval_batch_size=batch_size,           # Batch size for evaluation per device\n",
    "    learning_rate=2e-5,                              # Learning rate for optimizer\n",
    "    warmup_steps=400,                                # No of warmup steps for the learning rate scheduler\n",
    "    weight_decay=0.01,                               # Weight decay coefficient for regularization\n",
    "    logging_dir='./logs',                            # Directory for logging training information\n",
    "    load_best_model_at_end=True,                     # Whether to load the best model from checkpoints at the end of training\n",
    "    logging_steps=400,                               # Log training metrics every `logging_steps` steps\n",
    "    save_steps=400,                                  # Save model checkpoints every `save_steps` steps\n",
    "    save_total_limit=2,                              # Save no of checkpoints\n",
    "    eval_strategy = \"steps\",                         # When to run evaluation during training: steps, epochs or none\n",
    "    fp16=True,                                       # Floating point 16 precision\n",
    "    push_to_hub=True,                                # Save checkpoint in Hugging Face Hub\n",
    "    report_to=\"tensorboard\",                         # Enable TensorBoard integration\n",
    ")\n"
   ]
  },
  {
   "cell_type": "markdown",
   "metadata": {
    "id": "nlH5U0ImAMFJ"
   },
   "source": [
    "## 9. Train the Fine-Tuned BERT Model"
   ]
  },
  {
   "cell_type": "code",
   "execution_count": null,
   "metadata": {},
   "outputs": [],
   "source": [
    "import evaluate\n",
    "\n",
    "# Load the accuracy metric\n",
    "accuracy_metric = evaluate.load(\"accuracy\")\n",
    "\n",
    "# Compute_metrics function\n",
    "def compute_metrics(eval_pred):\n",
    "    logits, labels = eval_pred\n",
    "    predictions = np.argmax(logits, axis=-1)\n",
    "    accuracy = accuracy_metric.compute(predictions=predictions, references=labels)\n",
    "    return accuracy"
   ]
  },
  {
   "cell_type": "code",
   "execution_count": null,
   "metadata": {
    "colab": {
     "base_uri": "https://localhost:8080/"
    },
    "id": "QaN-z2lExThi",
    "outputId": "05ed24c8-d387-456b-b27b-0b8046ee9234"
   },
   "outputs": [],
   "source": [
    "# Label mapping\n",
    "label_mapping = {0: 'negative', 2: 'neutral', 4: 'positive'}\n",
    "\n",
    "model = DistilBertForSequenceClassification.from_pretrained(model_name,\n",
    "                                                            num_labels=3)\n",
    "\n",
    "# Override the model configuration for custom labels\n",
    "model.config.id2label = label_mapping\n",
    "model.config.label2id = {v: k for k, v in label_mapping.items()}\n",
    "\n",
    "\n",
    "trainer = Trainer(\n",
    "    model=model,                      # The instantiated Transformers model to be trained\n",
    "    args=training_args,               # Training arguments, defined above\n",
    "    train_dataset=train_dataset,      # Training dataset\n",
    "    eval_dataset=test_dataset,        # Evaluation dataset\n",
    "    tokenizer=tokenizer,              # Tokenizer\n",
    "    data_collator=data_collator,      # Data collator\n",
    "    compute_metrics=compute_metrics,  # Function to compute metrics\n",
    ")"
   ]
  },
  {
   "cell_type": "code",
   "execution_count": null,
   "metadata": {
    "colab": {
     "base_uri": "https://localhost:8080/",
     "height": 422
    },
    "id": "H1KmmxIQyXK_",
    "outputId": "dfe4bf31-ce16-4c6f-8aeb-a54dc5a9338b"
   },
   "outputs": [],
   "source": [
    "from accelerate import Accelerator\n",
    "\n",
    "# Initialize Accelerator and Trainer\n",
    "Accelerator()\n",
    "trainer.train()"
   ]
  },
  {
   "cell_type": "markdown",
   "metadata": {
    "id": "2wlH9_LX9fG2"
   },
   "source": [
    "## 10. Sentiment Prediction using custom text\n"
   ]
  },
  {
   "cell_type": "code",
   "execution_count": null,
   "metadata": {
    "id": "EBo9Vmnh8ET8"
   },
   "outputs": [],
   "source": [
    "# Tokenize text, get output from model and predict\n",
    "def predict_sentiment(model, tokenizer, text, device):\n",
    "    tokenized = tokenizer(text, truncation=True, padding=True, return_tensors='pt').to(device)\n",
    "    outputs = model(**tokenized)\n",
    "\n",
    "    probs = F.softmax(outputs.logits, dim=-1)\n",
    "    preds = torch.argmax(outputs.logits, dim=-1).item()\n",
    "    probs_max = probs.max().detach().cpu().numpy()\n",
    "\n",
    "    if preds == 0:\n",
    "        prediction = \"Negative\"\n",
    "    elif preds == 1:\n",
    "        prediction = \"Neutral\"\n",
    "    elif preds == 2:\n",
    "        prediction = \"Positive\"\n",
    "    else:\n",
    "        prediction = \"Unknown\"\n",
    "        \n",
    "    # prediction = \"Positive\" if preds == 1 else \"Negative\"\n",
    "    print(f'{text}\\nSentiment: {prediction}\\tProbability: {probs_max*100:.2f}%\\n', end=\"-\"*50 + \"\\n\")\n",
    "    # return prediction, probs_max"
   ]
  },
  {
   "cell_type": "code",
   "execution_count": null,
   "metadata": {
    "id": "EujVy_419ip4"
   },
   "outputs": [],
   "source": [
    "texts = [\n",
    "    \"The traffic was horrendous this morning; I was stuck in it for over an hour.\",\n",
    "    \"I was extremely disappointed with the quality of the product; it didn't meet my expectations at all.\",\n",
    "    \"The customer service at the restaurant was very good; the staff went above and beyond to make us feel welcome.\",\n",
    "    \"My recent stay at Paradise Resort was absolutely fantastic! From the moment I arrived, I was greeted with warm smiles and excellent service. The room was spacious, beautifully decorated, and spotlessly clean. I loved the breathtaking view from my balcony overlooking the pool and tropical gardens. The dining options were exceptional, and the resort's facilities were top-notch, offering everything from a fitness center to guided nature walks. Overall, Paradise Resort exceeded all my expectations, and I can't wait to return for another memorable stay!\",\n",
    "    \"The movie started off promising, but it quickly went downhill. The plot was confusing, the acting was mediocre, and the ending was unsatisfying.\",\n",
    "    \"I had a terrible experience at the restaurant last night. The food was cold, the service was slow, and the staff was rude.\",\n",
    "    \"Despite the initial skepticism, I was pleasantly surprised by the performance of the new smartphone. Its sleek design, impressive camera quality, and fast processing speed exceeded my expectations.\",\n",
    "    \"The concert was absolutely amazing! The energy of the performers, the enthusiasm of the crowd, and the quality of the music made it an unforgettable experience.\",\n",
    "    \"I had high hopes for the book, but it turned out to be a disappointment. The characters were one-dimensional, the plot was predictable, and the writing style was uninspired.\",\n",
    "    \"The presentation was well-prepared and delivered with confidence. The speaker engaged the audience effectively and provided valuable insights on the topic.\",\n",
    "    \"The service at the hotel was impeccable. The staff was attentive, courteous, and always willing to assist with any request.\",\n",
    "    \"The weather during our vacation was dreadful; it rained every day, and we were stuck indoors for most of the trip.\",\n",
    "    \"The hiking trail offered breathtaking views of the mountains and lush forests. It was a challenging but rewarding experience.\",\n",
    "    \"The customer support team was unhelpful and incompetent. They were unable to resolve my issue and seemed indifferent to my concerns.\",\n",
    "    \"The play was a delightful blend of humor, drama, and suspense. The talented cast delivered stellar performances, and the storyline kept me engaged from start to finish.\",\n",
    "    \"The new restaurant in town has quickly become my favorite dining spot. The food is delicious, the atmosphere is cozy, and the service is outstanding.\",\n",
    "]\n",
    "\n",
    "for text in texts:\n",
    "  predict_sentiment(model, tokenizer, text, device)"
   ]
  },
  {
   "cell_type": "code",
   "execution_count": null,
   "metadata": {
    "id": "YBC6C8VA_Kh4"
   },
   "outputs": [],
   "source": [
    "# An example of complex review that contains both positive and negative sentiment\n",
    "texts = [\"Despite facing numerous challenges and setbacks, the team worked tirelessly and managed to exceed all expectations, achieving remarkable success. However, despite their best efforts, the project encountered multiple setbacks, ultimately leading to its failure and significant financial losses.\",\n",
    "         \"The hotel room was clean and comfortable, and the amenities were well-maintained. However, the noise from the nearby construction site was disruptive due to which i could not focus when working.\",\n",
    "         \"The movie had an intriguing plot and captivating visuals, but the sound quality was poor, making it difficult to fully enjoy the experience.\"]\n",
    "for text in texts:\n",
    "  predict_sentiment(model, tokenizer, text, device)"
   ]
  },
  {
   "cell_type": "code",
   "execution_count": null,
   "metadata": {
    "id": "ucfdIBfD62Tr"
   },
   "outputs": [],
   "source": [
    "# Breaking down above example into parts\n",
    "texts = [\"Despite facing numerous challenges and setbacks, the team worked tirelessly and managed to exceed all expectations, achieving remarkable success.\",\n",
    "         \"However, despite their best efforts, the project encountered multiple setbacks, ultimately leading to its failure and significant financial losses.\",\n",
    "         \"The hotel room was clean and comfortable, and the amenities were well-maintained.\",\n",
    "         \"However, the noise from the nearby construction site was disruptive due to which i could not focus when working.\"]\n",
    "\n",
    "for text in texts:\n",
    "  predict_sentiment(model, tokenizer, text, device)"
   ]
  },
  {
   "cell_type": "markdown",
   "metadata": {
    "id": "zH1RF9aR5okZ"
   },
   "source": [
    "Looks like **BERT** can accurately interpret the overall sentiment of the text, recognizing the positive aspects (clean and comfortable room, well-maintained amenities) as well as the negative aspect (disruptive noise from construction). By considering the context and weighing the various sentiments present, BERT can provide a nuanced understanding of the text's sentiment.\n",
    "\n",
    "Overall, BERT's capability to handle mixed sentiments reflects its robustness and versatility in natural language understanding, making it a valuable tool for sentiment analysis and various other NLP tasks."
   ]
  },
  {
   "cell_type": "markdown",
   "metadata": {
    "id": "i30fs6fub2qs"
   },
   "source": [
    "## 11. Evaluate & Plot Confusion Matrix"
   ]
  },
  {
   "cell_type": "code",
   "execution_count": null,
   "metadata": {
    "id": "2vhoNPwXYyIY"
   },
   "outputs": [],
   "source": [
    "from sklearn.metrics import confusion_matrix\n",
    "from tqdm.auto import tqdm\n",
    "import seaborn as sns\n",
    "import matplotlib.pyplot as plt"
   ]
  },
  {
   "cell_type": "code",
   "execution_count": null,
   "metadata": {
    "id": "Tw25ZE-BbwY8"
   },
   "outputs": [],
   "source": [
    "# Predict X_test dataset and evaluate through usage of metrics and\n",
    "# plot Confusion Matrix\n",
    "def predict_sentiment_and_evaluate(model, tokenizer, X_test, y_test, device):\n",
    "  predictions = []\n",
    "\n",
    "  for text in tqdm(X_test):\n",
    "    # Tokenize and forward pass to model\n",
    "    tokenized = tokenizer(text, truncation=True, padding=True, return_tensors='pt').to(device)\n",
    "    outputs = model(**tokenized)\n",
    "\n",
    "    # Inference\n",
    "    preds = torch.argmax(outputs.logits, dim=-1).item()\n",
    "    predictions.append(preds)\n",
    "\n",
    "  # Confusion Matrix\n",
    "  cm = confusion_matrix(y_test, predictions)\n",
    "  plt.figure(figsize=(6, 4))\n",
    "  sns.heatmap(cm, annot=True, fmt=\"d\", cmap=\"Blues\", cbar=False,\n",
    "              xticklabels=['Negative', 'Positive'],\n",
    "              yticklabels=['Negative', 'Positive'])\n",
    "  plt.xlabel('Predicted')\n",
    "  plt.ylabel('Actual')\n",
    "  plt.title('Confusion Matrix')\n",
    "  plt.show()"
   ]
  },
  {
   "cell_type": "code",
   "execution_count": null,
   "metadata": {
    "colab": {
     "base_uri": "https://localhost:8080/",
     "height": 442,
     "referenced_widgets": [
      "651b42c5bcb446e58ee60d07411982cf",
      "e2c20c8499e1439c83e12333b6876280",
      "47d938799f6149bca0349e65366cad51",
      "24b53ee1f6b44eb996574e5c8d9231b8",
      "3f1d4ce564974fa5be80e15978afb915",
      "095ce34a8efb4ebab6df1faf3ab9257a",
      "7f556609234146d08c78c0bbea32ec93",
      "a71b7b35ac20470aa715857fe4eac0d3",
      "4cb94bfc2fc94e8b8787f41612b7f749",
      "54f7632a7d3047ce9b6e9333ac871248",
      "198d620b60f14cd2aa5cfb0114dec311"
     ]
    },
    "id": "6LimqTJ9YzCG",
    "outputId": "b30b98dd-c38c-40a0-9968-9e460bb164ea"
   },
   "outputs": [],
   "source": [
    "predict_sentiment_and_evaluate(model, tokenizer, X_test, y_test, device)"
   ]
  }
 ],
 "metadata": {
  "accelerator": "GPU",
  "colab": {
   "gpuType": "T4",
   "include_colab_link": true,
   "provenance": []
  },
  "kernelspec": {
   "display_name": "Python 3 (ipykernel)",
   "language": "python",
   "name": "python3"
  },
  "language_info": {
   "codemirror_mode": {
    "name": "ipython",
    "version": 3
   },
   "file_extension": ".py",
   "mimetype": "text/x-python",
   "name": "python",
   "nbconvert_exporter": "python",
   "pygments_lexer": "ipython3",
   "version": "3.12.6"
  },
  "widgets": {
   "application/vnd.jupyter.widget-state+json": {
    "038710f43d7a48dc8660458c680b35fb": {
     "model_module": "@jupyter-widgets/controls",
     "model_module_version": "1.5.0",
     "model_name": "LabelModel",
     "state": {
      "_dom_classes": [],
      "_model_module": "@jupyter-widgets/controls",
      "_model_module_version": "1.5.0",
      "_model_name": "LabelModel",
      "_view_count": null,
      "_view_module": "@jupyter-widgets/controls",
      "_view_module_version": "1.5.0",
      "_view_name": "LabelView",
      "description": "",
      "description_tooltip": null,
      "layout": "IPY_MODEL_f701050853814fff9c33373ab92deb43",
      "placeholder": "​",
      "style": "IPY_MODEL_2a4847e7a62f46b0b2afd22f9c1a0a4c",
      "value": "Your token has been saved to /root/.cache/huggingface/token"
     }
    },
    "095ce34a8efb4ebab6df1faf3ab9257a": {
     "model_module": "@jupyter-widgets/base",
     "model_module_version": "1.2.0",
     "model_name": "LayoutModel",
     "state": {
      "_model_module": "@jupyter-widgets/base",
      "_model_module_version": "1.2.0",
      "_model_name": "LayoutModel",
      "_view_count": null,
      "_view_module": "@jupyter-widgets/base",
      "_view_module_version": "1.2.0",
      "_view_name": "LayoutView",
      "align_content": null,
      "align_items": null,
      "align_self": null,
      "border": null,
      "bottom": null,
      "display": null,
      "flex": null,
      "flex_flow": null,
      "grid_area": null,
      "grid_auto_columns": null,
      "grid_auto_flow": null,
      "grid_auto_rows": null,
      "grid_column": null,
      "grid_gap": null,
      "grid_row": null,
      "grid_template_areas": null,
      "grid_template_columns": null,
      "grid_template_rows": null,
      "height": null,
      "justify_content": null,
      "justify_items": null,
      "left": null,
      "margin": null,
      "max_height": null,
      "max_width": null,
      "min_height": null,
      "min_width": null,
      "object_fit": null,
      "object_position": null,
      "order": null,
      "overflow": null,
      "overflow_x": null,
      "overflow_y": null,
      "padding": null,
      "right": null,
      "top": null,
      "visibility": null,
      "width": null
     }
    },
    "0cb660d95a9b46ed9ea2689b3b828508": {
     "model_module": "@jupyter-widgets/controls",
     "model_module_version": "1.5.0",
     "model_name": "HTMLModel",
     "state": {
      "_dom_classes": [],
      "_model_module": "@jupyter-widgets/controls",
      "_model_module_version": "1.5.0",
      "_model_name": "HTMLModel",
      "_view_count": null,
      "_view_module": "@jupyter-widgets/controls",
      "_view_module_version": "1.5.0",
      "_view_name": "HTMLView",
      "description": "",
      "description_tooltip": null,
      "layout": "IPY_MODEL_3242d629683242bfbc5777a2b904dd70",
      "placeholder": "​",
      "style": "IPY_MODEL_657bc2cc2cb744c4a1f72488b58d53b0",
      "value": "\n<b>Pro Tip:</b> If you don't already have one, you can create a dedicated\n'notebooks' token with 'write' access, that you can then easily reuse for all\nnotebooks. </center>"
     }
    },
    "12f37aede6d249dd817b16db3b12b099": {
     "model_module": "@jupyter-widgets/controls",
     "model_module_version": "1.5.0",
     "model_name": "DescriptionStyleModel",
     "state": {
      "_model_module": "@jupyter-widgets/controls",
      "_model_module_version": "1.5.0",
      "_model_name": "DescriptionStyleModel",
      "_view_count": null,
      "_view_module": "@jupyter-widgets/base",
      "_view_module_version": "1.2.0",
      "_view_name": "StyleView",
      "description_width": ""
     }
    },
    "1421f131fe17439898b48f87cfa26b52": {
     "model_module": "@jupyter-widgets/controls",
     "model_module_version": "1.5.0",
     "model_name": "CheckboxModel",
     "state": {
      "_dom_classes": [],
      "_model_module": "@jupyter-widgets/controls",
      "_model_module_version": "1.5.0",
      "_model_name": "CheckboxModel",
      "_view_count": null,
      "_view_module": "@jupyter-widgets/controls",
      "_view_module_version": "1.5.0",
      "_view_name": "CheckboxView",
      "description": "Add token as git credential?",
      "description_tooltip": null,
      "disabled": false,
      "indent": true,
      "layout": "IPY_MODEL_ee83043d95cc4bee83a14456fbd7c01c",
      "style": "IPY_MODEL_ed42110cf0cf47f3aff0853d0452e7d8",
      "value": true
     }
    },
    "198d620b60f14cd2aa5cfb0114dec311": {
     "model_module": "@jupyter-widgets/controls",
     "model_module_version": "1.5.0",
     "model_name": "DescriptionStyleModel",
     "state": {
      "_model_module": "@jupyter-widgets/controls",
      "_model_module_version": "1.5.0",
      "_model_name": "DescriptionStyleModel",
      "_view_count": null,
      "_view_module": "@jupyter-widgets/base",
      "_view_module_version": "1.2.0",
      "_view_name": "StyleView",
      "description_width": ""
     }
    },
    "1d5d3e06619c4084b41ab120e8476c6d": {
     "model_module": "@jupyter-widgets/controls",
     "model_module_version": "1.5.0",
     "model_name": "DescriptionStyleModel",
     "state": {
      "_model_module": "@jupyter-widgets/controls",
      "_model_module_version": "1.5.0",
      "_model_name": "DescriptionStyleModel",
      "_view_count": null,
      "_view_module": "@jupyter-widgets/base",
      "_view_module_version": "1.2.0",
      "_view_name": "StyleView",
      "description_width": ""
     }
    },
    "2480db893d3b43379c2aff68f421eb07": {
     "model_module": "@jupyter-widgets/base",
     "model_module_version": "1.2.0",
     "model_name": "LayoutModel",
     "state": {
      "_model_module": "@jupyter-widgets/base",
      "_model_module_version": "1.2.0",
      "_model_name": "LayoutModel",
      "_view_count": null,
      "_view_module": "@jupyter-widgets/base",
      "_view_module_version": "1.2.0",
      "_view_name": "LayoutView",
      "align_content": null,
      "align_items": null,
      "align_self": null,
      "border": null,
      "bottom": null,
      "display": null,
      "flex": null,
      "flex_flow": null,
      "grid_area": null,
      "grid_auto_columns": null,
      "grid_auto_flow": null,
      "grid_auto_rows": null,
      "grid_column": null,
      "grid_gap": null,
      "grid_row": null,
      "grid_template_areas": null,
      "grid_template_columns": null,
      "grid_template_rows": null,
      "height": null,
      "justify_content": null,
      "justify_items": null,
      "left": null,
      "margin": null,
      "max_height": null,
      "max_width": null,
      "min_height": null,
      "min_width": null,
      "object_fit": null,
      "object_position": null,
      "order": null,
      "overflow": null,
      "overflow_x": null,
      "overflow_y": null,
      "padding": null,
      "right": null,
      "top": null,
      "visibility": null,
      "width": null
     }
    },
    "24b53ee1f6b44eb996574e5c8d9231b8": {
     "model_module": "@jupyter-widgets/controls",
     "model_module_version": "1.5.0",
     "model_name": "HTMLModel",
     "state": {
      "_dom_classes": [],
      "_model_module": "@jupyter-widgets/controls",
      "_model_module_version": "1.5.0",
      "_model_name": "HTMLModel",
      "_view_count": null,
      "_view_module": "@jupyter-widgets/controls",
      "_view_module_version": "1.5.0",
      "_view_name": "HTMLView",
      "description": "",
      "description_tooltip": null,
      "layout": "IPY_MODEL_54f7632a7d3047ce9b6e9333ac871248",
      "placeholder": "​",
      "style": "IPY_MODEL_198d620b60f14cd2aa5cfb0114dec311",
      "value": " 4000/4000 [00:56&lt;00:00, 96.18it/s]"
     }
    },
    "2a4847e7a62f46b0b2afd22f9c1a0a4c": {
     "model_module": "@jupyter-widgets/controls",
     "model_module_version": "1.5.0",
     "model_name": "DescriptionStyleModel",
     "state": {
      "_model_module": "@jupyter-widgets/controls",
      "_model_module_version": "1.5.0",
      "_model_name": "DescriptionStyleModel",
      "_view_count": null,
      "_view_module": "@jupyter-widgets/base",
      "_view_module_version": "1.2.0",
      "_view_name": "StyleView",
      "description_width": ""
     }
    },
    "3242d629683242bfbc5777a2b904dd70": {
     "model_module": "@jupyter-widgets/base",
     "model_module_version": "1.2.0",
     "model_name": "LayoutModel",
     "state": {
      "_model_module": "@jupyter-widgets/base",
      "_model_module_version": "1.2.0",
      "_model_name": "LayoutModel",
      "_view_count": null,
      "_view_module": "@jupyter-widgets/base",
      "_view_module_version": "1.2.0",
      "_view_name": "LayoutView",
      "align_content": null,
      "align_items": null,
      "align_self": null,
      "border": null,
      "bottom": null,
      "display": null,
      "flex": null,
      "flex_flow": null,
      "grid_area": null,
      "grid_auto_columns": null,
      "grid_auto_flow": null,
      "grid_auto_rows": null,
      "grid_column": null,
      "grid_gap": null,
      "grid_row": null,
      "grid_template_areas": null,
      "grid_template_columns": null,
      "grid_template_rows": null,
      "height": null,
      "justify_content": null,
      "justify_items": null,
      "left": null,
      "margin": null,
      "max_height": null,
      "max_width": null,
      "min_height": null,
      "min_width": null,
      "object_fit": null,
      "object_position": null,
      "order": null,
      "overflow": null,
      "overflow_x": null,
      "overflow_y": null,
      "padding": null,
      "right": null,
      "top": null,
      "visibility": null,
      "width": null
     }
    },
    "35e38db3a6e74956ae22f6e6b3d594a3": {
     "model_module": "@jupyter-widgets/controls",
     "model_module_version": "1.5.0",
     "model_name": "LabelModel",
     "state": {
      "_dom_classes": [],
      "_model_module": "@jupyter-widgets/controls",
      "_model_module_version": "1.5.0",
      "_model_name": "LabelModel",
      "_view_count": null,
      "_view_module": "@jupyter-widgets/controls",
      "_view_module_version": "1.5.0",
      "_view_name": "LabelView",
      "description": "",
      "description_tooltip": null,
      "layout": "IPY_MODEL_e800a5dc461b465c98814786c7b9d42b",
      "placeholder": "​",
      "style": "IPY_MODEL_90cea132a5114445922194fa5aea05d1",
      "value": "Connecting..."
     }
    },
    "368cc160a1bb43b7b11f7991b2d55d5a": {
     "model_module": "@jupyter-widgets/controls",
     "model_module_version": "1.5.0",
     "model_name": "LabelModel",
     "state": {
      "_dom_classes": [],
      "_model_module": "@jupyter-widgets/controls",
      "_model_module_version": "1.5.0",
      "_model_name": "LabelModel",
      "_view_count": null,
      "_view_module": "@jupyter-widgets/controls",
      "_view_module_version": "1.5.0",
      "_view_name": "LabelView",
      "description": "",
      "description_tooltip": null,
      "layout": "IPY_MODEL_7b0317bfb8d742a09a3aa2c0ebb9773c",
      "placeholder": "​",
      "style": "IPY_MODEL_b848fa1f848348079650e1897429c3fa",
      "value": "Login successful"
     }
    },
    "3bc4f28421f8430d8640f292e94d8c64": {
     "model_module": "@jupyter-widgets/base",
     "model_module_version": "1.2.0",
     "model_name": "LayoutModel",
     "state": {
      "_model_module": "@jupyter-widgets/base",
      "_model_module_version": "1.2.0",
      "_model_name": "LayoutModel",
      "_view_count": null,
      "_view_module": "@jupyter-widgets/base",
      "_view_module_version": "1.2.0",
      "_view_name": "LayoutView",
      "align_content": null,
      "align_items": null,
      "align_self": null,
      "border": null,
      "bottom": null,
      "display": null,
      "flex": null,
      "flex_flow": null,
      "grid_area": null,
      "grid_auto_columns": null,
      "grid_auto_flow": null,
      "grid_auto_rows": null,
      "grid_column": null,
      "grid_gap": null,
      "grid_row": null,
      "grid_template_areas": null,
      "grid_template_columns": null,
      "grid_template_rows": null,
      "height": null,
      "justify_content": null,
      "justify_items": null,
      "left": null,
      "margin": null,
      "max_height": null,
      "max_width": null,
      "min_height": null,
      "min_width": null,
      "object_fit": null,
      "object_position": null,
      "order": null,
      "overflow": null,
      "overflow_x": null,
      "overflow_y": null,
      "padding": null,
      "right": null,
      "top": null,
      "visibility": null,
      "width": null
     }
    },
    "3f1d4ce564974fa5be80e15978afb915": {
     "model_module": "@jupyter-widgets/base",
     "model_module_version": "1.2.0",
     "model_name": "LayoutModel",
     "state": {
      "_model_module": "@jupyter-widgets/base",
      "_model_module_version": "1.2.0",
      "_model_name": "LayoutModel",
      "_view_count": null,
      "_view_module": "@jupyter-widgets/base",
      "_view_module_version": "1.2.0",
      "_view_name": "LayoutView",
      "align_content": null,
      "align_items": null,
      "align_self": null,
      "border": null,
      "bottom": null,
      "display": null,
      "flex": null,
      "flex_flow": null,
      "grid_area": null,
      "grid_auto_columns": null,
      "grid_auto_flow": null,
      "grid_auto_rows": null,
      "grid_column": null,
      "grid_gap": null,
      "grid_row": null,
      "grid_template_areas": null,
      "grid_template_columns": null,
      "grid_template_rows": null,
      "height": null,
      "justify_content": null,
      "justify_items": null,
      "left": null,
      "margin": null,
      "max_height": null,
      "max_width": null,
      "min_height": null,
      "min_width": null,
      "object_fit": null,
      "object_position": null,
      "order": null,
      "overflow": null,
      "overflow_x": null,
      "overflow_y": null,
      "padding": null,
      "right": null,
      "top": null,
      "visibility": null,
      "width": null
     }
    },
    "47d938799f6149bca0349e65366cad51": {
     "model_module": "@jupyter-widgets/controls",
     "model_module_version": "1.5.0",
     "model_name": "FloatProgressModel",
     "state": {
      "_dom_classes": [],
      "_model_module": "@jupyter-widgets/controls",
      "_model_module_version": "1.5.0",
      "_model_name": "FloatProgressModel",
      "_view_count": null,
      "_view_module": "@jupyter-widgets/controls",
      "_view_module_version": "1.5.0",
      "_view_name": "ProgressView",
      "bar_style": "success",
      "description": "",
      "description_tooltip": null,
      "layout": "IPY_MODEL_a71b7b35ac20470aa715857fe4eac0d3",
      "max": 4000,
      "min": 0,
      "orientation": "horizontal",
      "style": "IPY_MODEL_4cb94bfc2fc94e8b8787f41612b7f749",
      "value": 4000
     }
    },
    "4c01bea3d08d4d7b956752b43697c996": {
     "model_module": "@jupyter-widgets/base",
     "model_module_version": "1.2.0",
     "model_name": "LayoutModel",
     "state": {
      "_model_module": "@jupyter-widgets/base",
      "_model_module_version": "1.2.0",
      "_model_name": "LayoutModel",
      "_view_count": null,
      "_view_module": "@jupyter-widgets/base",
      "_view_module_version": "1.2.0",
      "_view_name": "LayoutView",
      "align_content": null,
      "align_items": null,
      "align_self": null,
      "border": null,
      "bottom": null,
      "display": null,
      "flex": null,
      "flex_flow": null,
      "grid_area": null,
      "grid_auto_columns": null,
      "grid_auto_flow": null,
      "grid_auto_rows": null,
      "grid_column": null,
      "grid_gap": null,
      "grid_row": null,
      "grid_template_areas": null,
      "grid_template_columns": null,
      "grid_template_rows": null,
      "height": null,
      "justify_content": null,
      "justify_items": null,
      "left": null,
      "margin": null,
      "max_height": null,
      "max_width": null,
      "min_height": null,
      "min_width": null,
      "object_fit": null,
      "object_position": null,
      "order": null,
      "overflow": null,
      "overflow_x": null,
      "overflow_y": null,
      "padding": null,
      "right": null,
      "top": null,
      "visibility": null,
      "width": null
     }
    },
    "4cb94bfc2fc94e8b8787f41612b7f749": {
     "model_module": "@jupyter-widgets/controls",
     "model_module_version": "1.5.0",
     "model_name": "ProgressStyleModel",
     "state": {
      "_model_module": "@jupyter-widgets/controls",
      "_model_module_version": "1.5.0",
      "_model_name": "ProgressStyleModel",
      "_view_count": null,
      "_view_module": "@jupyter-widgets/base",
      "_view_module_version": "1.2.0",
      "_view_name": "StyleView",
      "bar_color": null,
      "description_width": ""
     }
    },
    "54f7632a7d3047ce9b6e9333ac871248": {
     "model_module": "@jupyter-widgets/base",
     "model_module_version": "1.2.0",
     "model_name": "LayoutModel",
     "state": {
      "_model_module": "@jupyter-widgets/base",
      "_model_module_version": "1.2.0",
      "_model_name": "LayoutModel",
      "_view_count": null,
      "_view_module": "@jupyter-widgets/base",
      "_view_module_version": "1.2.0",
      "_view_name": "LayoutView",
      "align_content": null,
      "align_items": null,
      "align_self": null,
      "border": null,
      "bottom": null,
      "display": null,
      "flex": null,
      "flex_flow": null,
      "grid_area": null,
      "grid_auto_columns": null,
      "grid_auto_flow": null,
      "grid_auto_rows": null,
      "grid_column": null,
      "grid_gap": null,
      "grid_row": null,
      "grid_template_areas": null,
      "grid_template_columns": null,
      "grid_template_rows": null,
      "height": null,
      "justify_content": null,
      "justify_items": null,
      "left": null,
      "margin": null,
      "max_height": null,
      "max_width": null,
      "min_height": null,
      "min_width": null,
      "object_fit": null,
      "object_position": null,
      "order": null,
      "overflow": null,
      "overflow_x": null,
      "overflow_y": null,
      "padding": null,
      "right": null,
      "top": null,
      "visibility": null,
      "width": null
     }
    },
    "5db308d5b97f44c48fbedbbf0dbbf97e": {
     "model_module": "@jupyter-widgets/controls",
     "model_module_version": "1.5.0",
     "model_name": "FloatProgressModel",
     "state": {
      "_dom_classes": [],
      "_model_module": "@jupyter-widgets/controls",
      "_model_module_version": "1.5.0",
      "_model_name": "FloatProgressModel",
      "_view_count": null,
      "_view_module": "@jupyter-widgets/controls",
      "_view_module_version": "1.5.0",
      "_view_name": "ProgressView",
      "bar_style": "success",
      "description": "",
      "description_tooltip": null,
      "layout": "IPY_MODEL_f7794110d28344d8b713c63aa5ec0e21",
      "max": 20000,
      "min": 0,
      "orientation": "horizontal",
      "style": "IPY_MODEL_6090c48a151a42d5a4daa26662177e7c",
      "value": 20000
     }
    },
    "5e12365361ab4641a7ba003c86d77586": {
     "model_module": "@jupyter-widgets/controls",
     "model_module_version": "1.5.0",
     "model_name": "HTMLModel",
     "state": {
      "_dom_classes": [],
      "_model_module": "@jupyter-widgets/controls",
      "_model_module_version": "1.5.0",
      "_model_name": "HTMLModel",
      "_view_count": null,
      "_view_module": "@jupyter-widgets/controls",
      "_view_module_version": "1.5.0",
      "_view_name": "HTMLView",
      "description": "",
      "description_tooltip": null,
      "layout": "IPY_MODEL_68b672b53c8a4a1097f47c2a850ce1a0",
      "placeholder": "​",
      "style": "IPY_MODEL_12f37aede6d249dd817b16db3b12b099",
      "value": "Preprocessing: 100%"
     }
    },
    "6090c48a151a42d5a4daa26662177e7c": {
     "model_module": "@jupyter-widgets/controls",
     "model_module_version": "1.5.0",
     "model_name": "ProgressStyleModel",
     "state": {
      "_model_module": "@jupyter-widgets/controls",
      "_model_module_version": "1.5.0",
      "_model_name": "ProgressStyleModel",
      "_view_count": null,
      "_view_module": "@jupyter-widgets/base",
      "_view_module_version": "1.2.0",
      "_view_name": "StyleView",
      "bar_color": null,
      "description_width": ""
     }
    },
    "6360e06ae7e74b89ad45dd1bb4413342": {
     "model_module": "@jupyter-widgets/controls",
     "model_module_version": "1.5.0",
     "model_name": "PasswordModel",
     "state": {
      "_dom_classes": [],
      "_model_module": "@jupyter-widgets/controls",
      "_model_module_version": "1.5.0",
      "_model_name": "PasswordModel",
      "_view_count": null,
      "_view_module": "@jupyter-widgets/controls",
      "_view_module_version": "1.5.0",
      "_view_name": "PasswordView",
      "continuous_update": true,
      "description": "Token:",
      "description_tooltip": null,
      "disabled": false,
      "layout": "IPY_MODEL_3bc4f28421f8430d8640f292e94d8c64",
      "placeholder": "​",
      "style": "IPY_MODEL_96edc1fed27340c692bf75fd4fc9c5d2",
      "value": ""
     }
    },
    "651b42c5bcb446e58ee60d07411982cf": {
     "model_module": "@jupyter-widgets/controls",
     "model_module_version": "1.5.0",
     "model_name": "HBoxModel",
     "state": {
      "_dom_classes": [],
      "_model_module": "@jupyter-widgets/controls",
      "_model_module_version": "1.5.0",
      "_model_name": "HBoxModel",
      "_view_count": null,
      "_view_module": "@jupyter-widgets/controls",
      "_view_module_version": "1.5.0",
      "_view_name": "HBoxView",
      "box_style": "",
      "children": [
       "IPY_MODEL_e2c20c8499e1439c83e12333b6876280",
       "IPY_MODEL_47d938799f6149bca0349e65366cad51",
       "IPY_MODEL_24b53ee1f6b44eb996574e5c8d9231b8"
      ],
      "layout": "IPY_MODEL_3f1d4ce564974fa5be80e15978afb915"
     }
    },
    "657bc2cc2cb744c4a1f72488b58d53b0": {
     "model_module": "@jupyter-widgets/controls",
     "model_module_version": "1.5.0",
     "model_name": "DescriptionStyleModel",
     "state": {
      "_model_module": "@jupyter-widgets/controls",
      "_model_module_version": "1.5.0",
      "_model_name": "DescriptionStyleModel",
      "_view_count": null,
      "_view_module": "@jupyter-widgets/base",
      "_view_module_version": "1.2.0",
      "_view_name": "StyleView",
      "description_width": ""
     }
    },
    "680bcce08dd645f9badcfd5a9f53dc4f": {
     "model_module": "@jupyter-widgets/base",
     "model_module_version": "1.2.0",
     "model_name": "LayoutModel",
     "state": {
      "_model_module": "@jupyter-widgets/base",
      "_model_module_version": "1.2.0",
      "_model_name": "LayoutModel",
      "_view_count": null,
      "_view_module": "@jupyter-widgets/base",
      "_view_module_version": "1.2.0",
      "_view_name": "LayoutView",
      "align_content": null,
      "align_items": null,
      "align_self": null,
      "border": null,
      "bottom": null,
      "display": null,
      "flex": null,
      "flex_flow": null,
      "grid_area": null,
      "grid_auto_columns": null,
      "grid_auto_flow": null,
      "grid_auto_rows": null,
      "grid_column": null,
      "grid_gap": null,
      "grid_row": null,
      "grid_template_areas": null,
      "grid_template_columns": null,
      "grid_template_rows": null,
      "height": null,
      "justify_content": null,
      "justify_items": null,
      "left": null,
      "margin": null,
      "max_height": null,
      "max_width": null,
      "min_height": null,
      "min_width": null,
      "object_fit": null,
      "object_position": null,
      "order": null,
      "overflow": null,
      "overflow_x": null,
      "overflow_y": null,
      "padding": null,
      "right": null,
      "top": null,
      "visibility": null,
      "width": null
     }
    },
    "68b672b53c8a4a1097f47c2a850ce1a0": {
     "model_module": "@jupyter-widgets/base",
     "model_module_version": "1.2.0",
     "model_name": "LayoutModel",
     "state": {
      "_model_module": "@jupyter-widgets/base",
      "_model_module_version": "1.2.0",
      "_model_name": "LayoutModel",
      "_view_count": null,
      "_view_module": "@jupyter-widgets/base",
      "_view_module_version": "1.2.0",
      "_view_name": "LayoutView",
      "align_content": null,
      "align_items": null,
      "align_self": null,
      "border": null,
      "bottom": null,
      "display": null,
      "flex": null,
      "flex_flow": null,
      "grid_area": null,
      "grid_auto_columns": null,
      "grid_auto_flow": null,
      "grid_auto_rows": null,
      "grid_column": null,
      "grid_gap": null,
      "grid_row": null,
      "grid_template_areas": null,
      "grid_template_columns": null,
      "grid_template_rows": null,
      "height": null,
      "justify_content": null,
      "justify_items": null,
      "left": null,
      "margin": null,
      "max_height": null,
      "max_width": null,
      "min_height": null,
      "min_width": null,
      "object_fit": null,
      "object_position": null,
      "order": null,
      "overflow": null,
      "overflow_x": null,
      "overflow_y": null,
      "padding": null,
      "right": null,
      "top": null,
      "visibility": null,
      "width": null
     }
    },
    "6fe80fdd065148a2b8f6eebf0862123a": {
     "model_module": "@jupyter-widgets/controls",
     "model_module_version": "1.5.0",
     "model_name": "DescriptionStyleModel",
     "state": {
      "_model_module": "@jupyter-widgets/controls",
      "_model_module_version": "1.5.0",
      "_model_name": "DescriptionStyleModel",
      "_view_count": null,
      "_view_module": "@jupyter-widgets/base",
      "_view_module_version": "1.2.0",
      "_view_name": "StyleView",
      "description_width": ""
     }
    },
    "730e7bfb278a433bac4fedce9538cf0d": {
     "model_module": "@jupyter-widgets/controls",
     "model_module_version": "1.5.0",
     "model_name": "ButtonModel",
     "state": {
      "_dom_classes": [],
      "_model_module": "@jupyter-widgets/controls",
      "_model_module_version": "1.5.0",
      "_model_name": "ButtonModel",
      "_view_count": null,
      "_view_module": "@jupyter-widgets/controls",
      "_view_module_version": "1.5.0",
      "_view_name": "ButtonView",
      "button_style": "",
      "description": "Login",
      "disabled": false,
      "icon": "",
      "layout": "IPY_MODEL_a5c25ef7145d4a819569b30c10b3db22",
      "style": "IPY_MODEL_be723d54691348868cff55a8ba046eab",
      "tooltip": ""
     }
    },
    "7904667e67424983aeacfdf6fceab2a3": {
     "model_module": "@jupyter-widgets/controls",
     "model_module_version": "1.5.0",
     "model_name": "HBoxModel",
     "state": {
      "_dom_classes": [],
      "_model_module": "@jupyter-widgets/controls",
      "_model_module_version": "1.5.0",
      "_model_name": "HBoxModel",
      "_view_count": null,
      "_view_module": "@jupyter-widgets/controls",
      "_view_module_version": "1.5.0",
      "_view_name": "HBoxView",
      "box_style": "",
      "children": [
       "IPY_MODEL_5e12365361ab4641a7ba003c86d77586",
       "IPY_MODEL_5db308d5b97f44c48fbedbbf0dbbf97e",
       "IPY_MODEL_8496b3a8f89b420bbd64ba2f7e6fa6f5"
      ],
      "layout": "IPY_MODEL_4c01bea3d08d4d7b956752b43697c996"
     }
    },
    "79887438173e4ad4a55a46e735ec569c": {
     "model_module": "@jupyter-widgets/controls",
     "model_module_version": "1.5.0",
     "model_name": "DescriptionStyleModel",
     "state": {
      "_model_module": "@jupyter-widgets/controls",
      "_model_module_version": "1.5.0",
      "_model_name": "DescriptionStyleModel",
      "_view_count": null,
      "_view_module": "@jupyter-widgets/base",
      "_view_module_version": "1.2.0",
      "_view_name": "StyleView",
      "description_width": ""
     }
    },
    "7b0317bfb8d742a09a3aa2c0ebb9773c": {
     "model_module": "@jupyter-widgets/base",
     "model_module_version": "1.2.0",
     "model_name": "LayoutModel",
     "state": {
      "_model_module": "@jupyter-widgets/base",
      "_model_module_version": "1.2.0",
      "_model_name": "LayoutModel",
      "_view_count": null,
      "_view_module": "@jupyter-widgets/base",
      "_view_module_version": "1.2.0",
      "_view_name": "LayoutView",
      "align_content": null,
      "align_items": null,
      "align_self": null,
      "border": null,
      "bottom": null,
      "display": null,
      "flex": null,
      "flex_flow": null,
      "grid_area": null,
      "grid_auto_columns": null,
      "grid_auto_flow": null,
      "grid_auto_rows": null,
      "grid_column": null,
      "grid_gap": null,
      "grid_row": null,
      "grid_template_areas": null,
      "grid_template_columns": null,
      "grid_template_rows": null,
      "height": null,
      "justify_content": null,
      "justify_items": null,
      "left": null,
      "margin": null,
      "max_height": null,
      "max_width": null,
      "min_height": null,
      "min_width": null,
      "object_fit": null,
      "object_position": null,
      "order": null,
      "overflow": null,
      "overflow_x": null,
      "overflow_y": null,
      "padding": null,
      "right": null,
      "top": null,
      "visibility": null,
      "width": null
     }
    },
    "7f556609234146d08c78c0bbea32ec93": {
     "model_module": "@jupyter-widgets/controls",
     "model_module_version": "1.5.0",
     "model_name": "DescriptionStyleModel",
     "state": {
      "_model_module": "@jupyter-widgets/controls",
      "_model_module_version": "1.5.0",
      "_model_name": "DescriptionStyleModel",
      "_view_count": null,
      "_view_module": "@jupyter-widgets/base",
      "_view_module_version": "1.2.0",
      "_view_name": "StyleView",
      "description_width": ""
     }
    },
    "8496b3a8f89b420bbd64ba2f7e6fa6f5": {
     "model_module": "@jupyter-widgets/controls",
     "model_module_version": "1.5.0",
     "model_name": "HTMLModel",
     "state": {
      "_dom_classes": [],
      "_model_module": "@jupyter-widgets/controls",
      "_model_module_version": "1.5.0",
      "_model_name": "HTMLModel",
      "_view_count": null,
      "_view_module": "@jupyter-widgets/controls",
      "_view_module_version": "1.5.0",
      "_view_name": "HTMLView",
      "description": "",
      "description_tooltip": null,
      "layout": "IPY_MODEL_fc46c0fc11814ef9bb9045d2dad97234",
      "placeholder": "​",
      "style": "IPY_MODEL_79887438173e4ad4a55a46e735ec569c",
      "value": " 20000/20000 [00:05&lt;00:00, 4445.08it/s]"
     }
    },
    "90cea132a5114445922194fa5aea05d1": {
     "model_module": "@jupyter-widgets/controls",
     "model_module_version": "1.5.0",
     "model_name": "DescriptionStyleModel",
     "state": {
      "_model_module": "@jupyter-widgets/controls",
      "_model_module_version": "1.5.0",
      "_model_name": "DescriptionStyleModel",
      "_view_count": null,
      "_view_module": "@jupyter-widgets/base",
      "_view_module_version": "1.2.0",
      "_view_name": "StyleView",
      "description_width": ""
     }
    },
    "923e1b7fbd8b49bdabcd4f00f714be14": {
     "model_module": "@jupyter-widgets/controls",
     "model_module_version": "1.5.0",
     "model_name": "VBoxModel",
     "state": {
      "_dom_classes": [],
      "_model_module": "@jupyter-widgets/controls",
      "_model_module_version": "1.5.0",
      "_model_name": "VBoxModel",
      "_view_count": null,
      "_view_module": "@jupyter-widgets/controls",
      "_view_module_version": "1.5.0",
      "_view_name": "VBoxView",
      "box_style": "",
      "children": [
       "IPY_MODEL_9f025708b4034c879c0a4249378fadc3",
       "IPY_MODEL_f03f81ec0bc44602be760ff2f548a5fd",
       "IPY_MODEL_038710f43d7a48dc8660458c680b35fb",
       "IPY_MODEL_368cc160a1bb43b7b11f7991b2d55d5a"
      ],
      "layout": "IPY_MODEL_b6caf3716cd4411cb727f34683958bf6"
     }
    },
    "94bc6056062746bc8b1cfbfa3292a241": {
     "model_module": "@jupyter-widgets/base",
     "model_module_version": "1.2.0",
     "model_name": "LayoutModel",
     "state": {
      "_model_module": "@jupyter-widgets/base",
      "_model_module_version": "1.2.0",
      "_model_name": "LayoutModel",
      "_view_count": null,
      "_view_module": "@jupyter-widgets/base",
      "_view_module_version": "1.2.0",
      "_view_name": "LayoutView",
      "align_content": null,
      "align_items": null,
      "align_self": null,
      "border": null,
      "bottom": null,
      "display": null,
      "flex": null,
      "flex_flow": null,
      "grid_area": null,
      "grid_auto_columns": null,
      "grid_auto_flow": null,
      "grid_auto_rows": null,
      "grid_column": null,
      "grid_gap": null,
      "grid_row": null,
      "grid_template_areas": null,
      "grid_template_columns": null,
      "grid_template_rows": null,
      "height": null,
      "justify_content": null,
      "justify_items": null,
      "left": null,
      "margin": null,
      "max_height": null,
      "max_width": null,
      "min_height": null,
      "min_width": null,
      "object_fit": null,
      "object_position": null,
      "order": null,
      "overflow": null,
      "overflow_x": null,
      "overflow_y": null,
      "padding": null,
      "right": null,
      "top": null,
      "visibility": null,
      "width": null
     }
    },
    "96edc1fed27340c692bf75fd4fc9c5d2": {
     "model_module": "@jupyter-widgets/controls",
     "model_module_version": "1.5.0",
     "model_name": "DescriptionStyleModel",
     "state": {
      "_model_module": "@jupyter-widgets/controls",
      "_model_module_version": "1.5.0",
      "_model_name": "DescriptionStyleModel",
      "_view_count": null,
      "_view_module": "@jupyter-widgets/base",
      "_view_module_version": "1.2.0",
      "_view_name": "StyleView",
      "description_width": ""
     }
    },
    "9f025708b4034c879c0a4249378fadc3": {
     "model_module": "@jupyter-widgets/controls",
     "model_module_version": "1.5.0",
     "model_name": "LabelModel",
     "state": {
      "_dom_classes": [],
      "_model_module": "@jupyter-widgets/controls",
      "_model_module_version": "1.5.0",
      "_model_name": "LabelModel",
      "_view_count": null,
      "_view_module": "@jupyter-widgets/controls",
      "_view_module_version": "1.5.0",
      "_view_name": "LabelView",
      "description": "",
      "description_tooltip": null,
      "layout": "IPY_MODEL_94bc6056062746bc8b1cfbfa3292a241",
      "placeholder": "​",
      "style": "IPY_MODEL_6fe80fdd065148a2b8f6eebf0862123a",
      "value": "Token is valid (permission: write)."
     }
    },
    "a5c25ef7145d4a819569b30c10b3db22": {
     "model_module": "@jupyter-widgets/base",
     "model_module_version": "1.2.0",
     "model_name": "LayoutModel",
     "state": {
      "_model_module": "@jupyter-widgets/base",
      "_model_module_version": "1.2.0",
      "_model_name": "LayoutModel",
      "_view_count": null,
      "_view_module": "@jupyter-widgets/base",
      "_view_module_version": "1.2.0",
      "_view_name": "LayoutView",
      "align_content": null,
      "align_items": null,
      "align_self": null,
      "border": null,
      "bottom": null,
      "display": null,
      "flex": null,
      "flex_flow": null,
      "grid_area": null,
      "grid_auto_columns": null,
      "grid_auto_flow": null,
      "grid_auto_rows": null,
      "grid_column": null,
      "grid_gap": null,
      "grid_row": null,
      "grid_template_areas": null,
      "grid_template_columns": null,
      "grid_template_rows": null,
      "height": null,
      "justify_content": null,
      "justify_items": null,
      "left": null,
      "margin": null,
      "max_height": null,
      "max_width": null,
      "min_height": null,
      "min_width": null,
      "object_fit": null,
      "object_position": null,
      "order": null,
      "overflow": null,
      "overflow_x": null,
      "overflow_y": null,
      "padding": null,
      "right": null,
      "top": null,
      "visibility": null,
      "width": null
     }
    },
    "a71b7b35ac20470aa715857fe4eac0d3": {
     "model_module": "@jupyter-widgets/base",
     "model_module_version": "1.2.0",
     "model_name": "LayoutModel",
     "state": {
      "_model_module": "@jupyter-widgets/base",
      "_model_module_version": "1.2.0",
      "_model_name": "LayoutModel",
      "_view_count": null,
      "_view_module": "@jupyter-widgets/base",
      "_view_module_version": "1.2.0",
      "_view_name": "LayoutView",
      "align_content": null,
      "align_items": null,
      "align_self": null,
      "border": null,
      "bottom": null,
      "display": null,
      "flex": null,
      "flex_flow": null,
      "grid_area": null,
      "grid_auto_columns": null,
      "grid_auto_flow": null,
      "grid_auto_rows": null,
      "grid_column": null,
      "grid_gap": null,
      "grid_row": null,
      "grid_template_areas": null,
      "grid_template_columns": null,
      "grid_template_rows": null,
      "height": null,
      "justify_content": null,
      "justify_items": null,
      "left": null,
      "margin": null,
      "max_height": null,
      "max_width": null,
      "min_height": null,
      "min_width": null,
      "object_fit": null,
      "object_position": null,
      "order": null,
      "overflow": null,
      "overflow_x": null,
      "overflow_y": null,
      "padding": null,
      "right": null,
      "top": null,
      "visibility": null,
      "width": null
     }
    },
    "b6caf3716cd4411cb727f34683958bf6": {
     "model_module": "@jupyter-widgets/base",
     "model_module_version": "1.2.0",
     "model_name": "LayoutModel",
     "state": {
      "_model_module": "@jupyter-widgets/base",
      "_model_module_version": "1.2.0",
      "_model_name": "LayoutModel",
      "_view_count": null,
      "_view_module": "@jupyter-widgets/base",
      "_view_module_version": "1.2.0",
      "_view_name": "LayoutView",
      "align_content": null,
      "align_items": "center",
      "align_self": null,
      "border": null,
      "bottom": null,
      "display": "flex",
      "flex": null,
      "flex_flow": "column",
      "grid_area": null,
      "grid_auto_columns": null,
      "grid_auto_flow": null,
      "grid_auto_rows": null,
      "grid_column": null,
      "grid_gap": null,
      "grid_row": null,
      "grid_template_areas": null,
      "grid_template_columns": null,
      "grid_template_rows": null,
      "height": null,
      "justify_content": null,
      "justify_items": null,
      "left": null,
      "margin": null,
      "max_height": null,
      "max_width": null,
      "min_height": null,
      "min_width": null,
      "object_fit": null,
      "object_position": null,
      "order": null,
      "overflow": null,
      "overflow_x": null,
      "overflow_y": null,
      "padding": null,
      "right": null,
      "top": null,
      "visibility": null,
      "width": "50%"
     }
    },
    "b809d01b8cd344d98f2273b3ae8f7ffb": {
     "model_module": "@jupyter-widgets/controls",
     "model_module_version": "1.5.0",
     "model_name": "HTMLModel",
     "state": {
      "_dom_classes": [],
      "_model_module": "@jupyter-widgets/controls",
      "_model_module_version": "1.5.0",
      "_model_name": "HTMLModel",
      "_view_count": null,
      "_view_module": "@jupyter-widgets/controls",
      "_view_module_version": "1.5.0",
      "_view_name": "HTMLView",
      "description": "",
      "description_tooltip": null,
      "layout": "IPY_MODEL_2480db893d3b43379c2aff68f421eb07",
      "placeholder": "​",
      "style": "IPY_MODEL_e8fd4b2f11b749ca9ef44d94353e13f0",
      "value": "<center> <img\nsrc=https://huggingface.co/front/assets/huggingface_logo-noborder.svg\nalt='Hugging Face'> <br> Copy a token from <a\nhref=\"https://huggingface.co/settings/tokens\" target=\"_blank\">your Hugging Face\ntokens page</a> and paste it below. <br> Immediately click login after copying\nyour token or it might be stored in plain text in this notebook file. </center>"
     }
    },
    "b848fa1f848348079650e1897429c3fa": {
     "model_module": "@jupyter-widgets/controls",
     "model_module_version": "1.5.0",
     "model_name": "DescriptionStyleModel",
     "state": {
      "_model_module": "@jupyter-widgets/controls",
      "_model_module_version": "1.5.0",
      "_model_name": "DescriptionStyleModel",
      "_view_count": null,
      "_view_module": "@jupyter-widgets/base",
      "_view_module_version": "1.2.0",
      "_view_name": "StyleView",
      "description_width": ""
     }
    },
    "be723d54691348868cff55a8ba046eab": {
     "model_module": "@jupyter-widgets/controls",
     "model_module_version": "1.5.0",
     "model_name": "ButtonStyleModel",
     "state": {
      "_model_module": "@jupyter-widgets/controls",
      "_model_module_version": "1.5.0",
      "_model_name": "ButtonStyleModel",
      "_view_count": null,
      "_view_module": "@jupyter-widgets/base",
      "_view_module_version": "1.2.0",
      "_view_name": "StyleView",
      "button_color": null,
      "font_weight": ""
     }
    },
    "e2c20c8499e1439c83e12333b6876280": {
     "model_module": "@jupyter-widgets/controls",
     "model_module_version": "1.5.0",
     "model_name": "HTMLModel",
     "state": {
      "_dom_classes": [],
      "_model_module": "@jupyter-widgets/controls",
      "_model_module_version": "1.5.0",
      "_model_name": "HTMLModel",
      "_view_count": null,
      "_view_module": "@jupyter-widgets/controls",
      "_view_module_version": "1.5.0",
      "_view_name": "HTMLView",
      "description": "",
      "description_tooltip": null,
      "layout": "IPY_MODEL_095ce34a8efb4ebab6df1faf3ab9257a",
      "placeholder": "​",
      "style": "IPY_MODEL_7f556609234146d08c78c0bbea32ec93",
      "value": "100%"
     }
    },
    "e800a5dc461b465c98814786c7b9d42b": {
     "model_module": "@jupyter-widgets/base",
     "model_module_version": "1.2.0",
     "model_name": "LayoutModel",
     "state": {
      "_model_module": "@jupyter-widgets/base",
      "_model_module_version": "1.2.0",
      "_model_name": "LayoutModel",
      "_view_count": null,
      "_view_module": "@jupyter-widgets/base",
      "_view_module_version": "1.2.0",
      "_view_name": "LayoutView",
      "align_content": null,
      "align_items": null,
      "align_self": null,
      "border": null,
      "bottom": null,
      "display": null,
      "flex": null,
      "flex_flow": null,
      "grid_area": null,
      "grid_auto_columns": null,
      "grid_auto_flow": null,
      "grid_auto_rows": null,
      "grid_column": null,
      "grid_gap": null,
      "grid_row": null,
      "grid_template_areas": null,
      "grid_template_columns": null,
      "grid_template_rows": null,
      "height": null,
      "justify_content": null,
      "justify_items": null,
      "left": null,
      "margin": null,
      "max_height": null,
      "max_width": null,
      "min_height": null,
      "min_width": null,
      "object_fit": null,
      "object_position": null,
      "order": null,
      "overflow": null,
      "overflow_x": null,
      "overflow_y": null,
      "padding": null,
      "right": null,
      "top": null,
      "visibility": null,
      "width": null
     }
    },
    "e8fd4b2f11b749ca9ef44d94353e13f0": {
     "model_module": "@jupyter-widgets/controls",
     "model_module_version": "1.5.0",
     "model_name": "DescriptionStyleModel",
     "state": {
      "_model_module": "@jupyter-widgets/controls",
      "_model_module_version": "1.5.0",
      "_model_name": "DescriptionStyleModel",
      "_view_count": null,
      "_view_module": "@jupyter-widgets/base",
      "_view_module_version": "1.2.0",
      "_view_name": "StyleView",
      "description_width": ""
     }
    },
    "ed42110cf0cf47f3aff0853d0452e7d8": {
     "model_module": "@jupyter-widgets/controls",
     "model_module_version": "1.5.0",
     "model_name": "DescriptionStyleModel",
     "state": {
      "_model_module": "@jupyter-widgets/controls",
      "_model_module_version": "1.5.0",
      "_model_name": "DescriptionStyleModel",
      "_view_count": null,
      "_view_module": "@jupyter-widgets/base",
      "_view_module_version": "1.2.0",
      "_view_name": "StyleView",
      "description_width": ""
     }
    },
    "ee83043d95cc4bee83a14456fbd7c01c": {
     "model_module": "@jupyter-widgets/base",
     "model_module_version": "1.2.0",
     "model_name": "LayoutModel",
     "state": {
      "_model_module": "@jupyter-widgets/base",
      "_model_module_version": "1.2.0",
      "_model_name": "LayoutModel",
      "_view_count": null,
      "_view_module": "@jupyter-widgets/base",
      "_view_module_version": "1.2.0",
      "_view_name": "LayoutView",
      "align_content": null,
      "align_items": null,
      "align_self": null,
      "border": null,
      "bottom": null,
      "display": null,
      "flex": null,
      "flex_flow": null,
      "grid_area": null,
      "grid_auto_columns": null,
      "grid_auto_flow": null,
      "grid_auto_rows": null,
      "grid_column": null,
      "grid_gap": null,
      "grid_row": null,
      "grid_template_areas": null,
      "grid_template_columns": null,
      "grid_template_rows": null,
      "height": null,
      "justify_content": null,
      "justify_items": null,
      "left": null,
      "margin": null,
      "max_height": null,
      "max_width": null,
      "min_height": null,
      "min_width": null,
      "object_fit": null,
      "object_position": null,
      "order": null,
      "overflow": null,
      "overflow_x": null,
      "overflow_y": null,
      "padding": null,
      "right": null,
      "top": null,
      "visibility": null,
      "width": null
     }
    },
    "f03f81ec0bc44602be760ff2f548a5fd": {
     "model_module": "@jupyter-widgets/controls",
     "model_module_version": "1.5.0",
     "model_name": "LabelModel",
     "state": {
      "_dom_classes": [],
      "_model_module": "@jupyter-widgets/controls",
      "_model_module_version": "1.5.0",
      "_model_name": "LabelModel",
      "_view_count": null,
      "_view_module": "@jupyter-widgets/controls",
      "_view_module_version": "1.5.0",
      "_view_name": "LabelView",
      "description": "",
      "description_tooltip": null,
      "layout": "IPY_MODEL_680bcce08dd645f9badcfd5a9f53dc4f",
      "placeholder": "​",
      "style": "IPY_MODEL_1d5d3e06619c4084b41ab120e8476c6d",
      "value": "Your token has been saved in your configured git credential helpers (store)."
     }
    },
    "f701050853814fff9c33373ab92deb43": {
     "model_module": "@jupyter-widgets/base",
     "model_module_version": "1.2.0",
     "model_name": "LayoutModel",
     "state": {
      "_model_module": "@jupyter-widgets/base",
      "_model_module_version": "1.2.0",
      "_model_name": "LayoutModel",
      "_view_count": null,
      "_view_module": "@jupyter-widgets/base",
      "_view_module_version": "1.2.0",
      "_view_name": "LayoutView",
      "align_content": null,
      "align_items": null,
      "align_self": null,
      "border": null,
      "bottom": null,
      "display": null,
      "flex": null,
      "flex_flow": null,
      "grid_area": null,
      "grid_auto_columns": null,
      "grid_auto_flow": null,
      "grid_auto_rows": null,
      "grid_column": null,
      "grid_gap": null,
      "grid_row": null,
      "grid_template_areas": null,
      "grid_template_columns": null,
      "grid_template_rows": null,
      "height": null,
      "justify_content": null,
      "justify_items": null,
      "left": null,
      "margin": null,
      "max_height": null,
      "max_width": null,
      "min_height": null,
      "min_width": null,
      "object_fit": null,
      "object_position": null,
      "order": null,
      "overflow": null,
      "overflow_x": null,
      "overflow_y": null,
      "padding": null,
      "right": null,
      "top": null,
      "visibility": null,
      "width": null
     }
    },
    "f7794110d28344d8b713c63aa5ec0e21": {
     "model_module": "@jupyter-widgets/base",
     "model_module_version": "1.2.0",
     "model_name": "LayoutModel",
     "state": {
      "_model_module": "@jupyter-widgets/base",
      "_model_module_version": "1.2.0",
      "_model_name": "LayoutModel",
      "_view_count": null,
      "_view_module": "@jupyter-widgets/base",
      "_view_module_version": "1.2.0",
      "_view_name": "LayoutView",
      "align_content": null,
      "align_items": null,
      "align_self": null,
      "border": null,
      "bottom": null,
      "display": null,
      "flex": null,
      "flex_flow": null,
      "grid_area": null,
      "grid_auto_columns": null,
      "grid_auto_flow": null,
      "grid_auto_rows": null,
      "grid_column": null,
      "grid_gap": null,
      "grid_row": null,
      "grid_template_areas": null,
      "grid_template_columns": null,
      "grid_template_rows": null,
      "height": null,
      "justify_content": null,
      "justify_items": null,
      "left": null,
      "margin": null,
      "max_height": null,
      "max_width": null,
      "min_height": null,
      "min_width": null,
      "object_fit": null,
      "object_position": null,
      "order": null,
      "overflow": null,
      "overflow_x": null,
      "overflow_y": null,
      "padding": null,
      "right": null,
      "top": null,
      "visibility": null,
      "width": null
     }
    },
    "fc46c0fc11814ef9bb9045d2dad97234": {
     "model_module": "@jupyter-widgets/base",
     "model_module_version": "1.2.0",
     "model_name": "LayoutModel",
     "state": {
      "_model_module": "@jupyter-widgets/base",
      "_model_module_version": "1.2.0",
      "_model_name": "LayoutModel",
      "_view_count": null,
      "_view_module": "@jupyter-widgets/base",
      "_view_module_version": "1.2.0",
      "_view_name": "LayoutView",
      "align_content": null,
      "align_items": null,
      "align_self": null,
      "border": null,
      "bottom": null,
      "display": null,
      "flex": null,
      "flex_flow": null,
      "grid_area": null,
      "grid_auto_columns": null,
      "grid_auto_flow": null,
      "grid_auto_rows": null,
      "grid_column": null,
      "grid_gap": null,
      "grid_row": null,
      "grid_template_areas": null,
      "grid_template_columns": null,
      "grid_template_rows": null,
      "height": null,
      "justify_content": null,
      "justify_items": null,
      "left": null,
      "margin": null,
      "max_height": null,
      "max_width": null,
      "min_height": null,
      "min_width": null,
      "object_fit": null,
      "object_position": null,
      "order": null,
      "overflow": null,
      "overflow_x": null,
      "overflow_y": null,
      "padding": null,
      "right": null,
      "top": null,
      "visibility": null,
      "width": null
     }
    }
   }
  }
 },
 "nbformat": 4,
 "nbformat_minor": 4
}
